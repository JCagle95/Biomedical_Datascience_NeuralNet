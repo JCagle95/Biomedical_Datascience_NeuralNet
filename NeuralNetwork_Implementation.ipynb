{
 "cells": [
  {
   "cell_type": "markdown",
   "metadata": {},
   "source": [
    "# Implement Neural Network for Keras Sample Datasets\n",
    "The first section will follow the instruction of Jason Browniee's 2016 post on Neural Network with Keras. The original post is here: http://machinelearningmastery.com/handwritten-digit-recognition-using-convolutional-neural-networks-python-keras/\n",
    "\n",
    "The CIFAR-10 dataset consists of 60000 32x32 colour images in 10 classes, with 6000 images per class. There are 50000 training images and 10000 test images. "
   ]
  },
  {
   "cell_type": "code",
   "execution_count": 2,
   "metadata": {
    "collapsed": false
   },
   "outputs": [],
   "source": [
    "import keras"
   ]
  },
  {
   "cell_type": "code",
   "execution_count": 3,
   "metadata": {
    "collapsed": false
   },
   "outputs": [],
   "source": [
    "import numpy as np\n",
    "from keras.datasets import cifar10 \n",
    "from keras.models import Sequential\n",
    "from keras.layers import Dense\n",
    "from keras.layers import Dropout\n",
    "from keras.utils import np_utils\n",
    "\n",
    "from sklearn import preprocessing\n",
    "\n",
    "seed = 78\n",
    "np.random.seed(seed)"
   ]
  },
  {
   "cell_type": "code",
   "execution_count": 14,
   "metadata": {
    "collapsed": false
   },
   "outputs": [],
   "source": [
    "# Load Dataset\n",
    "(X_train, y_train), (X_test, y_test) = cifar10.load_data()"
   ]
  },
  {
   "cell_type": "markdown",
   "metadata": {},
   "source": [
    "## Design of a Multilayer Perceptron\n",
    "The input to multilayer perceptron must be a vector of input. Since our input are 50000 x 32 x 32 x 3, we need to convert that to 50000 x 3072 vector.\n",
    "\n",
    "The MLP is 1 input layer with 3072 input node, 1 hidden layer with 3072 input node, and 1 output layer with 1000 output node\n",
    "\n",
    "The output will be converted for multiclass classification using one-hot encoding."
   ]
  },
  {
   "cell_type": "code",
   "execution_count": 15,
   "metadata": {
    "collapsed": true
   },
   "outputs": [],
   "source": [
    "num_pixels = X_train.shape[1]*X_train.shape[2]*X_train.shape[3]\n",
    "X_trainVec = X_train.reshape(X_train.shape[0],num_pixels).astype('float32')\n",
    "X_testVec = X_test.reshape(X_test.shape[0],num_pixels).astype('float32')"
   ]
  },
  {
   "cell_type": "code",
   "execution_count": 16,
   "metadata": {
    "collapsed": false
   },
   "outputs": [],
   "source": [
    "y_train = np_utils.to_categorical(y_train)\n",
    "y_test = np_utils.to_categorical(y_test)\n",
    "num_classes = y_test.shape[1]"
   ]
  },
  {
   "cell_type": "code",
   "execution_count": 17,
   "metadata": {
    "collapsed": false
   },
   "outputs": [],
   "source": [
    "scaler = preprocessing.MinMaxScaler()\n",
    "scaler = scaler.fit(X_trainVec)\n",
    "X_trainVec = scaler.transform(X_trainVec)\n",
    "X_testVec = scaler.transform(X_testVec)"
   ]
  },
  {
   "cell_type": "code",
   "execution_count": 18,
   "metadata": {
    "collapsed": true
   },
   "outputs": [],
   "source": [
    "def baseline_model():\n",
    "    model = Sequential()\n",
    "    model.add(Dense(num_pixels, input_dim=num_pixels, kernel_initializer='normal', activation='relu'))\n",
    "    model.add(Dense(num_classes, input_dim=num_pixels, kernel_initializer='normal', activation='softmax'))\n",
    "    model.compile(loss='categorical_crossentropy', optimizer='adam', metrics=['accuracy'])\n",
    "    return model"
   ]
  },
  {
   "cell_type": "code",
   "execution_count": 19,
   "metadata": {
    "collapsed": false
   },
   "outputs": [
    {
     "name": "stdout",
     "output_type": "stream",
     "text": [
      "Train on 50000 samples, validate on 10000 samples\n",
      "Epoch 1/10\n",
      "58s - loss: 11.8896 - acc: 0.1808 - val_loss: 11.8999 - val_acc: 0.1848\n",
      "Epoch 2/10\n",
      "58s - loss: 11.7064 - acc: 0.1974 - val_loss: 11.5835 - val_acc: 0.2057\n",
      "Epoch 3/10\n",
      "96s - loss: 11.6695 - acc: 0.1977 - val_loss: 11.5156 - val_acc: 0.2146\n",
      "Epoch 4/10\n",
      "191s - loss: 11.7828 - acc: 0.1953 - val_loss: 11.7561 - val_acc: 0.1843\n",
      "Epoch 5/10\n",
      "170s - loss: 11.5387 - acc: 0.2111 - val_loss: 11.6231 - val_acc: 0.1855\n",
      "Epoch 6/10\n",
      "171s - loss: 11.5518 - acc: 0.2078 - val_loss: 11.4774 - val_acc: 0.2242\n",
      "Epoch 7/10\n",
      "174s - loss: 11.4576 - acc: 0.2160 - val_loss: 10.1776 - val_acc: 0.2151\n",
      "Epoch 8/10\n",
      "173s - loss: 6.1265 - acc: 0.2639 - val_loss: 1.7476 - val_acc: 0.3783\n",
      "Epoch 9/10\n",
      "170s - loss: 1.6930 - acc: 0.3986 - val_loss: 1.6821 - val_acc: 0.4007\n",
      "Epoch 10/10\n",
      "173s - loss: 1.6066 - acc: 0.4315 - val_loss: 1.5731 - val_acc: 0.4512\n",
      "Multilayer Perceptron Accuracy: 45.12%\n"
     ]
    }
   ],
   "source": [
    "model = baseline_model()\n",
    "model.fit(X_trainVec, y_train, validation_data=(X_testVec, y_test), epochs=10, batch_size=200, verbose=2)\n",
    "scores = model.evaluate(X_testVec, y_test, verbose=0)\n",
    "print(\"Multilayer Perceptron Accuracy: %.2f%%\" % (scores[1]*100))"
   ]
  },
  {
   "cell_type": "markdown",
   "metadata": {},
   "source": [
    "## Design of a Simple Convolutional Neural Network\n"
   ]
  },
  {
   "cell_type": "code",
   "execution_count": 20,
   "metadata": {
    "collapsed": true
   },
   "outputs": [],
   "source": [
    "from keras.layers import Flatten\n",
    "from keras.layers.convolutional import Convolution2D\n",
    "from keras.layers.convolutional import MaxPooling2D\n",
    "from keras import backend as K\n",
    "K.set_image_dim_ordering('th')\n",
    "\n",
    "# Load Dataset\n",
    "(X_train, y_train), (X_test, y_test) = cifar10.load_data()"
   ]
  },
  {
   "cell_type": "code",
   "execution_count": 21,
   "metadata": {
    "collapsed": false
   },
   "outputs": [],
   "source": [
    "X_train = X_train.reshape(X_train.shape[0], X_train.shape[1], X_train.shape[2], X_train.shape[3]).astype('float32')\n",
    "X_test = X_test.reshape(X_test.shape[0], X_train.shape[1], X_test.shape[2], X_test.shape[3]).astype('float32')\n",
    "X_train = X_train/255\n",
    "X_test = X_test/255\n",
    "y_train = np_utils.to_categorical(y_train)\n",
    "y_test = np_utils.to_categorical(y_test)\n",
    "num_classes = y_test.shape[1]"
   ]
  },
  {
   "cell_type": "code",
   "execution_count": 22,
   "metadata": {
    "collapsed": false
   },
   "outputs": [],
   "source": [
    "def convNN():\n",
    "    model = Sequential()\n",
    "    model.add(Convolution2D(32, (3, 3), padding='valid', input_shape=(X_train.shape[1], X_train.shape[2], X_train.shape[3]), activation='relu'))\n",
    "    model.add(MaxPooling2D(pool_size=(2, 2)))\n",
    "    model.add(Dropout(0.2))\n",
    "    model.add(Flatten())\n",
    "    model.add(Dense(128, activation='relu'))\n",
    "    model.add(Dense(num_classes, activation='softmax'))\n",
    "    model.compile(loss='categorical_crossentropy', optimizer='adam', metrics=['accuracy'])\n",
    "    return model"
   ]
  },
  {
   "cell_type": "code",
   "execution_count": 23,
   "metadata": {
    "collapsed": false
   },
   "outputs": [
    {
     "name": "stdout",
     "output_type": "stream",
     "text": [
      "Train on 50000 samples, validate on 10000 samples\n",
      "Epoch 1/10\n",
      "60s - loss: 1.6597 - acc: 0.4151 - val_loss: 1.4016 - val_acc: 0.5085\n",
      "Epoch 2/10\n",
      "60s - loss: 1.3274 - acc: 0.5316 - val_loss: 1.2733 - val_acc: 0.5519\n",
      "Epoch 3/10\n",
      "65s - loss: 1.2210 - acc: 0.5719 - val_loss: 1.1996 - val_acc: 0.5775\n",
      "Epoch 4/10\n",
      "73s - loss: 1.1457 - acc: 0.5993 - val_loss: 1.1626 - val_acc: 0.5937\n",
      "Epoch 5/10\n",
      "71s - loss: 1.0967 - acc: 0.6173 - val_loss: 1.1240 - val_acc: 0.6044\n",
      "Epoch 6/10\n",
      "72s - loss: 1.0479 - acc: 0.6341 - val_loss: 1.0908 - val_acc: 0.6137\n",
      "Epoch 7/10\n",
      "72s - loss: 1.0101 - acc: 0.6467 - val_loss: 1.1281 - val_acc: 0.6056\n",
      "Epoch 8/10\n",
      "72s - loss: 0.9744 - acc: 0.6580 - val_loss: 1.0694 - val_acc: 0.6233\n",
      "Epoch 9/10\n",
      "72s - loss: 0.9420 - acc: 0.6707 - val_loss: 1.0338 - val_acc: 0.6365\n",
      "Epoch 10/10\n",
      "73s - loss: 0.9140 - acc: 0.6818 - val_loss: 1.0340 - val_acc: 0.6340\n",
      "Convolutional Neural Network Accuracy: 63.40%\n"
     ]
    }
   ],
   "source": [
    "model = convNN()\n",
    "model.fit(X_train, y_train, validation_data=(X_test, y_test), epochs=10, batch_size=200, verbose=2)\n",
    "scores = model.evaluate(X_test, y_test, verbose=0)\n",
    "print(\"Convolutional Neural Network Accuracy: %.2f%%\" % (scores[1]*100))"
   ]
  }
 ],
 "metadata": {
  "kernelspec": {
   "display_name": "Python 3",
   "language": "python",
   "name": "python3"
  },
  "language_info": {
   "codemirror_mode": {
    "name": "ipython",
    "version": 3
   },
   "file_extension": ".py",
   "mimetype": "text/x-python",
   "name": "python",
   "nbconvert_exporter": "python",
   "pygments_lexer": "ipython3",
   "version": "3.6.0"
  }
 },
 "nbformat": 4,
 "nbformat_minor": 2
}
